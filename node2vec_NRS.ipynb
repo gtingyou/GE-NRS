{
 "cells": [
  {
   "cell_type": "code",
   "execution_count": 1,
   "metadata": {},
   "outputs": [],
   "source": [
    "import sqlite3\n",
    "import pandas as pd\n",
    "import numpy as np\n",
    "from tqdm import tqdm\n",
    "import time"
   ]
  },
  {
   "cell_type": "code",
   "execution_count": 2,
   "metadata": {},
   "outputs": [],
   "source": [
    "def select_nodes_table(database_name, table_name, columns, conditions):\n",
    "    conn = sqlite3.connect(database_name)\n",
    "    cur = conn.cursor()\n",
    "    myresult = cur.execute('''SELECT {1}\n",
    "                            FROM {0} WHERE {2}'''\n",
    "                           .format(table_name,columns,conditions) )\n",
    "    result = []\n",
    "    for row in myresult:\n",
    "        result.append(row)\n",
    "    conn.close()    \n",
    "    return result"
   ]
  },
  {
   "cell_type": "code",
   "execution_count": 3,
   "metadata": {},
   "outputs": [],
   "source": [
    "def select_edges_table(database_name, table_name, columns, conditions):\n",
    "    conn = sqlite3.connect(database_name)\n",
    "    cur = conn.cursor()\n",
    "    myresult = cur.execute('''SELECT {1}\n",
    "                            FROM {0} WHERE {2}'''\n",
    "                           .format(table_name,columns,conditions) )\n",
    "    result = []\n",
    "    for row in myresult:\n",
    "        result.append(row)\n",
    "    conn.close()        \n",
    "    return result"
   ]
  },
  {
   "cell_type": "markdown",
   "metadata": {},
   "source": [
    "## Read DailyNewsNetwork from database"
   ]
  },
  {
   "cell_type": "code",
   "execution_count": 4,
   "metadata": {},
   "outputs": [],
   "source": [
    "NEWS_DB_PATH = '/Users/gtingyou/Documents/NewsNetwork/Recommendation System/NetworkEmbedding/DailyNews/NewsNetwork_ch.db'\n",
    "USER_DB_PATH = '/Users/gtingyou/Documents/NewsNetwork/Recommendation System/NetworkEmbedding/UserLogs/user2.db'\n",
    "MEDIA_NAME = 'LBT'\n",
    "DATE = '2020-06-30'"
   ]
  },
  {
   "cell_type": "code",
   "execution_count": 5,
   "metadata": {},
   "outputs": [
    {
     "data": {
      "text/plain": [
       "54846"
      ]
     },
     "execution_count": 5,
     "metadata": {},
     "output_type": "execute_result"
    }
   ],
   "source": [
    "MEDIAconnection = select_edges_table(NEWS_DB_PATH, MEDIA_NAME+'connection', 'News1,News2', \"ParseDate>='2020-04-01'\")\n",
    "len(MEDIAconnection)"
   ]
  },
  {
   "cell_type": "markdown",
   "metadata": {},
   "source": [
    "## Graph embedding (using node2vec)"
   ]
  },
  {
   "cell_type": "code",
   "execution_count": 6,
   "metadata": {},
   "outputs": [],
   "source": [
    "def output_MEDIAconnection_to_edgelist_file(MEDIAconnection):\n",
    "    df_edgelist = pd.DataFrame(MEDIAconnection)\n",
    "    df_edgelist.to_csv('./GraphEmbedding/data/news/%snews_%s.edgelist' %(MEDIA_NAME, DATE),sep=' ',index=None,header=None)"
   ]
  },
  {
   "cell_type": "code",
   "execution_count": 7,
   "metadata": {},
   "outputs": [],
   "source": [
    "output_MEDIAconnection_to_edgelist_file(MEDIAconnection)"
   ]
  },
  {
   "cell_type": "code",
   "execution_count": 8,
   "metadata": {},
   "outputs": [],
   "source": [
    "def Node2Vec_Network_Embedding():\n",
    "    import networkx as nx\n",
    "    from GraphEmbedding.ge.classify import read_node_label,Classifier\n",
    "    from GraphEmbedding.ge import Node2Vec\n",
    "    \n",
    "    G = nx.read_edgelist('./GraphEmbedding/data/news/%snews_%s.edgelist' %(MEDIA_NAME, DATE),\n",
    "                        create_using = nx.DiGraph(), nodetype = None, data = [('weight', int)])#read graph\n",
    "\n",
    "    model = Node2Vec(G, walk_length = 10, num_walks = 80,p = 0.25, q = 4, workers = 1)#init model\n",
    "    model.train(window_size = 5, iter = 3)# train model\n",
    "    embeddings = model.get_embeddings()# get embedding vectors\n",
    "\n",
    "    return embeddings"
   ]
  },
  {
   "cell_type": "code",
   "execution_count": 9,
   "metadata": {},
   "outputs": [
    {
     "name": "stdout",
     "output_type": "stream",
     "text": [
      "Preprocess transition probs...\n"
     ]
    },
    {
     "name": "stderr",
     "output_type": "stream",
     "text": [
      "[Parallel(n_jobs=1)]: Using backend SequentialBackend with 1 concurrent workers.\n",
      "[Parallel(n_jobs=1)]: Done   1 out of   1 | elapsed:   17.1s finished\n"
     ]
    },
    {
     "name": "stdout",
     "output_type": "stream",
     "text": [
      "Learning embedding vectors...\n",
      "Learning embedding vectors done!\n"
     ]
    }
   ],
   "source": [
    "node2vec_embeddings = Node2Vec_Network_Embedding()"
   ]
  },
  {
   "cell_type": "code",
   "execution_count": 10,
   "metadata": {},
   "outputs": [],
   "source": [
    "def output_Embeddings_to_file(embeddings):\n",
    "    df_embeddings = pd.DataFrame(embeddings).T\n",
    "    df_embeddings= df_embeddings.sort_index()\n",
    "\n",
    "    df_embeddings.to_csv('./GraphEmbedding/emb/%snews_%s.emb' %(MEDIA_NAME, DATE),sep=' ',index=True,header=None)"
   ]
  },
  {
   "cell_type": "code",
   "execution_count": 11,
   "metadata": {},
   "outputs": [],
   "source": [
    "output_Embeddings_to_file(node2vec_embeddings)"
   ]
  },
  {
   "cell_type": "markdown",
   "metadata": {},
   "source": [
    "## calculate *topology similarity score* and *document similarity score*"
   ]
  },
  {
   "cell_type": "code",
   "execution_count": 12,
   "metadata": {},
   "outputs": [],
   "source": [
    "# def read_Embeddings_from_file():\n",
    "#     DATE = '2020-06-30'\n",
    "#     df_embeddings = pd.read_csv('./GraphEmbedding/emb/news_%s.emb' %(DATE),sep=' ',index_col=0,header=None)\n",
    "    \n",
    "#     index = df_embeddings.index.tolist()\n",
    "#     values = df_embeddings.values.tolist()\n",
    "#     node2vec_embeddings = {index[i]:values[i] for i in range(len(index))}\n",
    "#     return node2vec_embeddings"
   ]
  },
  {
   "cell_type": "code",
   "execution_count": 13,
   "metadata": {},
   "outputs": [],
   "source": [
    "# node2vec_embeddings = read_Embeddings_from_file()"
   ]
  },
  {
   "cell_type": "markdown",
   "metadata": {},
   "source": [
    "#### topology sim score matrix"
   ]
  },
  {
   "cell_type": "code",
   "execution_count": 14,
   "metadata": {},
   "outputs": [],
   "source": [
    "def construct_topology_cs_matrix(node2vec_embeddings):\n",
    "    from sklearn.metrics.pairwise import cosine_similarity\n",
    "    \n",
    "    cs_index_list = sorted(list(node2vec_embeddings.keys()))\n",
    "    topology_cs_matrix = cosine_similarity(list(node2vec_embeddings.values()))\n",
    "                \n",
    "    return cs_index_list, topology_cs_matrix"
   ]
  },
  {
   "cell_type": "code",
   "execution_count": 15,
   "metadata": {},
   "outputs": [],
   "source": [
    "cs_index_list, topology_cs_matrix = construct_topology_cs_matrix(node2vec_embeddings)"
   ]
  },
  {
   "cell_type": "markdown",
   "metadata": {},
   "source": [
    "#### doc sim score matrix"
   ]
  },
  {
   "cell_type": "code",
   "execution_count": 16,
   "metadata": {},
   "outputs": [],
   "source": [
    "def construct_document_cs_matrix(node2vec_embeddings, MEDIA_NAME):\n",
    "    '''\n",
    "    step 1. get NewsDetail(include NewsIndex,NewsContext,NewsTitle) from database \n",
    "            ----> Due to selecting news with NewsIndex(Select * from CHTnews WHERE NewsIndex=='') is time consuming\n",
    "            ----> Hence, we dump all the news from CHTnews(Select * from CHTnews WHERE ParseDate>=''), then filter the news\n",
    "    step 2. construct cosine similarity matix of context and title respectively\n",
    "    step 3. compare 0:context and 1:title doc sim score, return the higher score\n",
    "    return: index of the matrix(list), cosine similarity matrix(list)\n",
    "    '''\n",
    "    import jieba\n",
    "    from sklearn.feature_extraction.text import CountVectorizer\n",
    "    from sklearn.feature_extraction.text import TfidfVectorizer\n",
    "    from sklearn.metrics.pairwise import cosine_similarity\n",
    "    import time\n",
    "    ### read stopWords from file\n",
    "    def open_stopWords_from_file(path):\n",
    "        stopWords=[]\n",
    "        # 讀入停用詞檔\n",
    "        with open('stopWords.txt', 'r', encoding='UTF-8') as file:\n",
    "            for data in file.readlines():\n",
    "                data = data.strip()\n",
    "                stopWords.append(data)\n",
    "        return stopWords\n",
    "    ### construct cs matrix\n",
    "    def construct_cs_matrix(context_or_title, News): # 算 context_or_title 的詞頻矩陣 ---> 1: context , 2: title\n",
    "        corpus = []\n",
    "        for i, k in enumerate( tqdm(News) ):\n",
    "            # 結巴中文斷詞\n",
    "            segments = jieba.cut(k[context_or_title], cut_all=False)\n",
    "            # 移除停用詞及跳行符號\n",
    "            remainderWords = list(filter(lambda a: a not in stopWords and a != '\\n', segments))\n",
    "            corpus.append(' '.join(remainderWords))\n",
    "        vectorizer = CountVectorizer()\n",
    "        X = vectorizer.fit_transform(corpus)\n",
    "        cs = cosine_similarity(X)\n",
    "        return cs \n",
    "    \n",
    "    ### read stopWords from file\n",
    "    stopWords = open_stopWords_from_file(path='./')\n",
    "    \n",
    "    ### step 1\n",
    "    cs_index_list = sorted(list(node2vec_embeddings.keys()))\n",
    "    MEDIA_nodes = select_nodes_table(NEWS_DB_PATH, MEDIA_NAME+'news', 'NewsIndex,NewsContext,NewsTitle', \"ParseDate>='2020-04-01' \")\n",
    "    News = []\n",
    "    print('Selecting news details from all news...')\n",
    "    for k in MEDIA_nodes:\n",
    "        if k[0] in cs_index_list:\n",
    "            News.append(k)\n",
    "    News = sorted(News, key=lambda x:x[0], reverse=False)\n",
    "        \n",
    "    ### step 2 \n",
    "    cs1 = construct_cs_matrix(1, News)\n",
    "#     print('End constructing cosine similarity matrix for NewsContext ---> ', time.strftime(\"%H:%M:%S\", time.localtime()) )\n",
    "#     cs2 = construct_cs_matrix(2, News)\n",
    "#     print('End constructing cosine similarity matrix for NewsTitle ---> ', time.strftime(\"%H:%M:%S\", time.localtime()) )\n",
    "    \n",
    "    ### step 3\n",
    "    document_cs_matrix = cs1\n",
    "#     document_cs_matrix = np.zeros([len(cs_index_list),len(cs_index_list)])\n",
    "#     for i in range(len(cs1)):\n",
    "#         for j in range(len(cs1)):\n",
    "#             if cs1[i][j]>=cs2[i][j]:\n",
    "#                 document_cs_matrix[i][j] = cs1[i][j]\n",
    "#             else:\n",
    "#                 document_cs_matrix[i][j] = cs2[i][j]\n",
    "\n",
    "    return cs_index_list, document_cs_matrix"
   ]
  },
  {
   "cell_type": "code",
   "execution_count": 17,
   "metadata": {},
   "outputs": [
    {
     "name": "stderr",
     "output_type": "stream",
     "text": [
      "  0%|          | 0/34622 [00:00<?, ?it/s]Building prefix dict from /anaconda3/envs/spider/lib/python3.6/site-packages/jieba/dict.txt ...\n",
      "Loading model from cache /var/folders/23/ffjh42551yd7bdv2qzvs0t680000gn/T/jieba.cache\n",
      "Loading model cost 0.9726390838623047 seconds.\n",
      "Prefix dict has been built succesfully.\n",
      "100%|██████████| 34622/34622 [05:02<00:00, 114.46it/s]\n"
     ]
    }
   ],
   "source": [
    "cs_index_list, document_cs_matrix = construct_document_cs_matrix(node2vec_embeddings, MEDIA_NAME)"
   ]
  },
  {
   "cell_type": "markdown",
   "metadata": {},
   "source": [
    "#### final_cs_matrix (alpha x doc sim score + (1-alpha) x topology sim score)"
   ]
  },
  {
   "cell_type": "code",
   "execution_count": 18,
   "metadata": {},
   "outputs": [],
   "source": [
    "def construct_final_cs_matrix(topology_cs_matrix, document_cs_matrix, alpha):\n",
    "    final_cs_matrix = topology_cs_matrix*alpha+document_cs_matrix*(1-alpha)\n",
    "    return final_cs_matrix"
   ]
  },
  {
   "cell_type": "code",
   "execution_count": null,
   "metadata": {},
   "outputs": [],
   "source": [
    "final_cs_matrix = construct_final_cs_matrix(topology_cs_matrix, document_cs_matrix, 0.1)"
   ]
  },
  {
   "cell_type": "code",
   "execution_count": null,
   "metadata": {},
   "outputs": [],
   "source": [
    "topology_cs_matrix.shape, document_cs_matrix.shape, final_cs_matrix.shape"
   ]
  },
  {
   "cell_type": "code",
   "execution_count": 16,
   "metadata": {},
   "outputs": [],
   "source": [
    "# topology_cs_matrix, document_cs_matrix, final_cs_matrix"
   ]
  },
  {
   "cell_type": "markdown",
   "metadata": {},
   "source": [
    "## Recommendation"
   ]
  },
  {
   "cell_type": "markdown",
   "metadata": {},
   "source": [
    "### Get user browse history from database"
   ]
  },
  {
   "cell_type": "code",
   "execution_count": 27,
   "metadata": {},
   "outputs": [
    {
     "data": {
      "text/plain": [
       "35"
      ]
     },
     "execution_count": 27,
     "metadata": {},
     "output_type": "execute_result"
    }
   ],
   "source": [
    "USERnews = select_nodes_table(USER_DB_PATH, 'NODES', 'NewsIndex,NewsTitle,NewsURL,NewsContext', \"ParseDate>='2020-06-20'\")\n",
    "len(USERnews)"
   ]
  },
  {
   "cell_type": "code",
   "execution_count": 41,
   "metadata": {},
   "outputs": [],
   "source": [
    "def get_NewsIndex_from_DailyNewsNetwork(USERnews, MEDIA_NAME):\n",
    "    USERnews_NewsIndex = []\n",
    "    for k in USERnews:\n",
    "        if MEDIA_NAME=='CHT':\n",
    "            term = 'chinatimes.com'\n",
    "        elif MEDIA_NAME=='LBT':\n",
    "            term = 'ltn.com.tw'\n",
    "            \n",
    "        if 'user' in k[0] and k[3]!='' and term in k[2]:\n",
    "            url = ('%'+k[2]+'%')\n",
    "            table_name = MEDIA_NAME+'news'\n",
    "            NewsNetwork_NewsIndex = select_nodes_table(NEWS_DB_PATH, table_name, 'NewsIndex', \"NewsURL like '%s'\" %url)\n",
    "            if NewsNetwork_NewsIndex!=[]:\n",
    "                USERnews_NewsIndex.append([NewsNetwork_NewsIndex[0][0],k[1],k[2]])\n",
    "        else:\n",
    "            print('Not NewsURL or Not in %s -> %s' %(MEDIA_NAME, k[2]) )\n",
    "            continue\n",
    "    return USERnews_NewsIndex"
   ]
  },
  {
   "cell_type": "code",
   "execution_count": 42,
   "metadata": {},
   "outputs": [
    {
     "name": "stdout",
     "output_type": "stream",
     "text": [
      "Not NewsURL or Not in LBT -> https://www.chinatimes.com/\n",
      "Not NewsURL or Not in LBT -> https://www.chinatimes.com/realtimenews/20200622001567-260405\n",
      "Not NewsURL or Not in LBT -> https://www.chinatimes.com/realtimenews/20200622002688-260405\n",
      "Not NewsURL or Not in LBT -> https://news.ltn.com.tw/list/breakingnews\n",
      "Not NewsURL or Not in LBT -> https://sports.ltn.com.tw/\n",
      "Not NewsURL or Not in LBT -> https://sports.ltn.com.tw/news/paper/1381483\n",
      "Not NewsURL or Not in LBT -> https://sports.ltn.com.tw/news/paper/1381484\n",
      "Not NewsURL or Not in LBT -> https://www.chinatimes.com/realtimenews/20200624003302-260409\n",
      "Not NewsURL or Not in LBT -> https://www.chinatimes.com/realtimenews/20200624002599-260409\n",
      "Not NewsURL or Not in LBT -> https://www.chinatimes.com/realtimenews/20200624000070-260409\n",
      "Not NewsURL or Not in LBT -> https://www.chinatimes.com/realtimenews/\n",
      "Not NewsURL or Not in LBT -> https://covid-19.chinatimes.com/%E6%96%B0%E5%86%A0%E8%82%BA%E7%82%8E,%E5%8F%B0%E7%81%A3\n",
      "Not NewsURL or Not in LBT -> https://www.chinatimes.com/realtimenews/20200624003186-260405\n",
      "Not NewsURL or Not in LBT -> https://www.chinatimes.com/realtimenews/20200620003247-260405\n",
      "Not NewsURL or Not in LBT -> https://www.ltn.com.tw/\n",
      "Not NewsURL or Not in LBT -> https://health.ltn.com.tw/article/breakingnews/3207818\n",
      "Not NewsURL or Not in LBT -> https://health.ltn.com.tw/article/breakingnews/3200518\n",
      "Not NewsURL or Not in LBT -> https://news.ltn.com.tw/list/breakingnews/popular\n",
      "Not NewsURL or Not in LBT -> https://news.ltn.com.tw/list/breakingnews/politics\n",
      "Not NewsURL or Not in LBT -> https://news.ltn.com.tw/list/breakingnews/life\n",
      "Cant find User browsed news in DailyNewsNetwork ->\n",
      " 拚選情？求平安？柯文哲端午連假屏東輔選1天跑11廟 https://news.ltn.com.tw/news/politics/breakingnews/3208343\n",
      "Not NewsURL or Not in LBT -> https://market.ltn.com.tw/article/8382\n",
      "Not NewsURL or Not in LBT -> https://news.ltn.com.tw/list/breakingnews/novelty\n",
      "Not NewsURL or Not in LBT -> https://auto.ltn.com.tw/\n",
      "Not NewsURL or Not in LBT -> https://news.ltn.com.tw/list/breakingnews/world\n",
      "Not NewsURL or Not in LBT -> https://news.ltn.com.tw/list/breakingnews/local\n",
      "Not NewsURL or Not in LBT -> https://health.ltn.com.tw/\n",
      "Not NewsURL or Not in LBT -> https://ent.ltn.com.tw/\n",
      "Not NewsURL or Not in LBT -> https://ent.ltn.com.tw/news/breakingnews/3208328\n"
     ]
    }
   ],
   "source": [
    "USERnews_NewsIndex = get_NewsIndex_from_DailyNewsNetwork(USERnews, MEDIA_NAME)"
   ]
  },
  {
   "cell_type": "markdown",
   "metadata": {},
   "source": [
    "### Recommend news based on user browse history"
   ]
  },
  {
   "cell_type": "code",
   "execution_count": 46,
   "metadata": {},
   "outputs": [],
   "source": [
    "def Recommed_News(NewsIndex, MEDIA_NAME, top_n):\n",
    "    matrix_index = cs_index_list.index(NewsIndex)\n",
    "    scores = [[cs_index_list[k], final_cs_matrix[matrix_index][k]] for k in range(len(cs_index_list))]\n",
    "    results = sorted(scores, key=lambda x:x[1], reverse=True)\n",
    "    \n",
    "    print('Recommed News:')\n",
    "    recommend_News = []\n",
    "    for i in range(top_n):\n",
    "        recommend_NewsIndex = results[i][0]\n",
    "        recommend_NewsInfo = select_nodes_table(NEWS_DB_PATH,MEDIA_NAME+'news','NewsIndex,NewsTitle,NewsURL',\"NewsIndex='%s' \" %(recommend_NewsIndex))\n",
    "        print('-'*40)\n",
    "        print(recommend_NewsInfo[0][0],recommend_NewsInfo[0][1],recommend_NewsInfo[0][2],results[i][1])\n",
    "#         recommend_News.append([recommend_NewsInfo[0][0],recommend_NewsInfo[0][1],recommend_NewsInfo[0][2],results[i][1]])\n",
    "        \n",
    "#     return recommend_News"
   ]
  },
  {
   "cell_type": "code",
   "execution_count": 48,
   "metadata": {},
   "outputs": [
    {
     "name": "stdout",
     "output_type": "stream",
     "text": [
      "----------------------------------------------------------------------------------------------------\n",
      "User browsing history News:\n",
      " ['LBT_20200624_1', '日女確診恐本土個案？ 陳時中：「待釐清」暫不列案號', 'https://news.ltn.com.tw/news/life/breakingnews/3208237']\n",
      "Recommed News:\n",
      "----------------------------------------\n",
      "LBT_20200624_1 日女確診恐本土個案？ 陳時中：「待釐清」暫不列案號 https://news.ltn.com.tw/news/life/breakingnews/3208237 0.9999999940395368\n",
      "----------------------------------------\n",
      "LBT_20200624_22 日本女學生染疫有台灣旅遊史 陳時中︰在台接觸者至少140人 https://news.ltn.com.tw/news/life/breakingnews/3208155 0.7533423360618162\n",
      "----------------------------------------\n",
      "LBT_20200626_801 武漢肺炎》增1例境外移入 有瓜地馬拉活動史 https://news.ltn.com.tw/news/life/breakingnews/3208936 0.5461183244126168\n",
      "----------------------------------------\n",
      "LBT_20200624_123 日本染疫20多歲女曾來台 指揮中心17:30加開臨時記者會說明 https://news.ltn.com.tw/news/life/breakingnews/3207990 0.5364213527395174\n",
      "----------------------------------------\n",
      "LBT_20200626_584 再增1例境外移入！ 指揮中心14:00召開臨時記者會 https://news.ltn.com.tw/news/life/breakingnews/3208808 0.5312397945874228\n",
      "----------------------------------------\n",
      "LBT_20200521_161 國內連12天零確診 解除隔離破400人 https://news.ltn.com.tw/news/life/breakingnews/3170353 0.5294752704464776\n",
      "----------------------------------------\n",
      "LBT_20200623_362 酒店女公關傳確診 指揮中心急追71名接觸者、2人採檢中 https://news.ltn.com.tw/news/life/breakingnews/3129526 0.5273742736463193\n",
      "----------------------------------------\n",
      "LBT_20200626_333 日確診女學生在台接觸者最終檢驗結果 指揮中心14:00記者會說明 https://news.ltn.com.tw/news/life/breakingnews/3209644 0.5222348403081485\n",
      "----------------------------------------\n",
      "LBT_20200605_300 武漢肺炎》「嘉玲」又回來了！ 連51天本土零確診 https://news.ltn.com.tw/news/life/breakingnews/3184741 0.5109586800998391\n",
      "----------------------------------------\n",
      "LBT_20200626_108 鬆口氣！確診武肺日本女學生 在台接觸者全陰性 https://news.ltn.com.tw/news/life/breakingnews/3209745 0.5034784239326365\n",
      "----------------------------------------------------------------------------------------------------\n",
      "User browsing history News:\n",
      " ['LBT_20200624_22', '日本女學生染疫有台灣旅遊史 陳時中︰在台接觸者至少140人', 'https://news.ltn.com.tw/news/life/breakingnews/3208155']\n",
      "Recommed News:\n",
      "----------------------------------------\n",
      "LBT_20200624_22 日本女學生染疫有台灣旅遊史 陳時中︰在台接觸者至少140人 https://news.ltn.com.tw/news/life/breakingnews/3208155 1.0000000163912763\n",
      "----------------------------------------\n",
      "LBT_20200624_1 日女確診恐本土個案？ 陳時中：「待釐清」暫不列案號 https://news.ltn.com.tw/news/life/breakingnews/3208237 0.7533423360618162\n",
      "----------------------------------------\n",
      "LBT_20200624_32 日本厚勞省︰無症狀女性20日入境檢疫確診 曾滯留台灣 https://news.ltn.com.tw/news/world/breakingnews/3208090 0.525913001221121\n",
      "----------------------------------------\n",
      "LBT_20200626_584 再增1例境外移入！ 指揮中心14:00召開臨時記者會 https://news.ltn.com.tw/news/life/breakingnews/3208808 0.5157112493789445\n",
      "----------------------------------------\n",
      "LBT_20200626_108 鬆口氣！確診武肺日本女學生 在台接觸者全陰性 https://news.ltn.com.tw/news/life/breakingnews/3209745 0.5108378424295736\n",
      "----------------------------------------\n",
      "LBT_20200624_123 日本染疫20多歲女曾來台 指揮中心17:30加開臨時記者會說明 https://news.ltn.com.tw/news/life/breakingnews/3207990 0.5091127951519365\n",
      "----------------------------------------\n",
      "LBT_20200626_801 武漢肺炎》增1例境外移入 有瓜地馬拉活動史 https://news.ltn.com.tw/news/life/breakingnews/3208936 0.500151331182598\n",
      "----------------------------------------\n",
      "LBT_20200626_333 日確診女學生在台接觸者最終檢驗結果 指揮中心14:00記者會說明 https://news.ltn.com.tw/news/life/breakingnews/3209644 0.48911336902810243\n",
      "----------------------------------------\n",
      "LBT_20200624_102 驚！日本厚生省公告從台灣返東京20多歲女子無症狀確診 https://news.ltn.com.tw/news/world/breakingnews/3208038 0.46667204818417846\n",
      "----------------------------------------\n",
      "LBT_20200624_222 疫情趨緩各行業有望放寬 指揮中心下午2點記者會說明 https://news.ltn.com.tw/news/life/breakingnews/3162607 0.462511152520097\n",
      "----------------------------------------------------------------------------------------------------\n",
      "User browsing history News:\n",
      " ['LBT_20200620_62', '秋天解禁？ 日本首波開放入境國家沒台灣 日媒曝關鍵原因', 'https://news.ltn.com.tw/news/world/breakingnews/3203519']\n",
      "Recommed News:\n",
      "----------------------------------------\n",
      "LBT_20200620_62 秋天解禁？ 日本首波開放入境國家沒台灣 日媒曝關鍵原因 https://news.ltn.com.tw/news/world/breakingnews/3203519 0.9999999865889544\n",
      "----------------------------------------\n",
      "LBT_20200624_327 台灣未列入日本首波開放入境國家 日網友：太奇怪了吧 https://news.ltn.com.tw/news/world/breakingnews/3202391 0.7601681243360029\n",
      "----------------------------------------\n",
      "LBT_20200618_12 武漢肺炎》日本首波開放入境國家公布 台灣未入列 https://news.ltn.com.tw/news/world/breakingnews/3202322 0.6631912792416984\n",
      "----------------------------------------\n",
      "LBT_20200609_104 日媒：日本擬鬆綁4國入境限制 台灣不在其中 https://news.ltn.com.tw/news/world/breakingnews/3182967 0.6321302926194349\n",
      "----------------------------------------\n",
      "LBT_20200627_516 日人認為台人禮儀差？ 這位日本人反駁了... https://news.ltn.com.tw/news/life/breakingnews/1771203 0.5343492865358939\n",
      "----------------------------------------\n",
      "LBT_20200617_159 台灣納首波入境鬆綁名單？ 日本外相回應了 https://news.ltn.com.tw/news/world/breakingnews/3198735 0.515476435345672\n",
      "----------------------------------------\n",
      "LBT_20200625_364 日本觀光今解禁 日本新聞民調：最期待台灣遊客來玩！ https://news.ltn.com.tw/news/world/breakingnews/3203478 0.5079910242832103\n",
      "----------------------------------------\n",
      "LBT_20200526_111 台灣包機助6日人返國 日本網友超感動：了不起的國家！ https://news.ltn.com.tw/news/world/breakingnews/3169821 0.5007469660645731\n",
      "----------------------------------------\n",
      "LBT_20200626_685 台日32個同名車站 鐵道迷互訪 https://news.ltn.com.tw/news/life/paper/1128638 0.4567230377603894\n",
      "----------------------------------------\n",
      "LBT_20200624_818 中國記者稱「日本怕危險不願救援」 網嗆：挑撥離間 https://news.ltn.com.tw/news/life/breakingnews/2338642 0.4514100577585293\n",
      "----------------------------------------------------------------------------------------------------\n",
      "User browsing history News:\n",
      " ['LBT_20200617_46', '武漢肺炎》北京耳語滿天飛！傳醫院爆滿、染疫屍體天天燒', 'https://news.ltn.com.tw/news/world/breakingnews/3199993']\n",
      "Recommed News:\n",
      "----------------------------------------\n",
      "LBT_20200617_46 武漢肺炎》北京耳語滿天飛！傳醫院爆滿、染疫屍體天天燒 https://news.ltn.com.tw/news/world/breakingnews/3199993 1.0000000163912768\n",
      "----------------------------------------\n",
      "LBT_20200621_13 武漢肺炎》中國疫情翻轉！湖北等地調派檢測人員馳援北京 https://news.ltn.com.tw/news/world/breakingnews/3204882 0.48760091832288327\n",
      "----------------------------------------\n",
      "LBT_20200621_313 武漢肺炎》北京新增本土確診22例 9天內累積破200例 https://news.ltn.com.tw/news/world/breakingnews/3203630 0.4604964453892845\n",
      "----------------------------------------\n",
      "LBT_20200623_128 武漢肺炎》北京官方隱瞞？ 中國網路談疫情立即被捕 https://news.ltn.com.tw/news/world/breakingnews/3206126 0.4584194423784538\n",
      "----------------------------------------\n",
      "LBT_20200624_404 武漢肺炎》疫情嚴峻！北京：中高風險區、服務業人員全面篩檢 https://news.ltn.com.tw/news/world/breakingnews/3207059 0.43691955622167555\n",
      "----------------------------------------\n",
      "LBT_20200617_45 武漢肺炎》疫情復燃！北京昨晚宣布：應急響應級別提升為二級 https://news.ltn.com.tw/news/world/breakingnews/3200000 0.4309734416385228\n",
      "----------------------------------------\n",
      "LBT_20200619_11 武漢肺炎》爆發群聚感染！ 北京一間餐廳8人確診 https://news.ltn.com.tw/news/world/breakingnews/3203397 0.4282520115616525\n",
      "----------------------------------------\n",
      "LBT_20200628_364 武漢肺炎》北京再添14例 多數集中豐台區 https://news.ltn.com.tw/news/world/breakingnews/3210955 0.42490070558095283\n",
      "----------------------------------------\n",
      "LBT_20200617_221 疫情嚴重？北京大規模取消航班 中小學緊急關閉 https://news.ltn.com.tw/news/world/breakingnews/3200059 0.4183462687933901\n",
      "----------------------------------------\n",
      "LBT_20200623_52 武漢肺炎》新發地市場影響延續 中國22日新增13例本土皆在北京 https://news.ltn.com.tw/news/world/breakingnews/3206181 0.41445086547018073\n",
      "----------------------------------------------------------------------------------------------------\n",
      "User browsing history News:\n",
      " ['LBT_20200615_134', '武漢肺炎》北京警戒再提升！ 多地列為中、高風險地區', 'https://news.ltn.com.tw/news/world/breakingnews/3197617']\n"
     ]
    },
    {
     "ename": "ValueError",
     "evalue": "'LBT_20200615_134' is not in list",
     "output_type": "error",
     "traceback": [
      "\u001b[0;31m---------------------------------------------------------------------------\u001b[0m",
      "\u001b[0;31mValueError\u001b[0m                                Traceback (most recent call last)",
      "\u001b[0;32m<ipython-input-48-e9244616d15e>\u001b[0m in \u001b[0;36m<module>\u001b[0;34m\u001b[0m\n\u001b[1;32m      2\u001b[0m     \u001b[0mprint\u001b[0m\u001b[0;34m(\u001b[0m\u001b[0;34m'-'\u001b[0m\u001b[0;34m*\u001b[0m\u001b[0;36m100\u001b[0m\u001b[0;34m)\u001b[0m\u001b[0;34m\u001b[0m\u001b[0;34m\u001b[0m\u001b[0m\n\u001b[1;32m      3\u001b[0m     \u001b[0mprint\u001b[0m\u001b[0;34m(\u001b[0m\u001b[0;34m'User browsing history News:\\n'\u001b[0m\u001b[0;34m,\u001b[0m \u001b[0mn\u001b[0m\u001b[0;34m)\u001b[0m\u001b[0;34m\u001b[0m\u001b[0;34m\u001b[0m\u001b[0m\n\u001b[0;32m----> 4\u001b[0;31m     \u001b[0mRecommed_News\u001b[0m\u001b[0;34m(\u001b[0m\u001b[0mn\u001b[0m\u001b[0;34m[\u001b[0m\u001b[0;36m0\u001b[0m\u001b[0;34m]\u001b[0m\u001b[0;34m,\u001b[0m \u001b[0mMEDIA_NAME\u001b[0m\u001b[0;34m,\u001b[0m \u001b[0;36m10\u001b[0m\u001b[0;34m)\u001b[0m\u001b[0;34m\u001b[0m\u001b[0;34m\u001b[0m\u001b[0m\n\u001b[0m",
      "\u001b[0;32m<ipython-input-46-96e4a9ae28ae>\u001b[0m in \u001b[0;36mRecommed_News\u001b[0;34m(NewsIndex, MEDIA_NAME, top_n)\u001b[0m\n\u001b[1;32m      1\u001b[0m \u001b[0;32mdef\u001b[0m \u001b[0mRecommed_News\u001b[0m\u001b[0;34m(\u001b[0m\u001b[0mNewsIndex\u001b[0m\u001b[0;34m,\u001b[0m \u001b[0mMEDIA_NAME\u001b[0m\u001b[0;34m,\u001b[0m \u001b[0mtop_n\u001b[0m\u001b[0;34m)\u001b[0m\u001b[0;34m:\u001b[0m\u001b[0;34m\u001b[0m\u001b[0;34m\u001b[0m\u001b[0m\n\u001b[0;32m----> 2\u001b[0;31m     \u001b[0mmatrix_index\u001b[0m \u001b[0;34m=\u001b[0m \u001b[0mcs_index_list\u001b[0m\u001b[0;34m.\u001b[0m\u001b[0mindex\u001b[0m\u001b[0;34m(\u001b[0m\u001b[0mNewsIndex\u001b[0m\u001b[0;34m)\u001b[0m\u001b[0;34m\u001b[0m\u001b[0;34m\u001b[0m\u001b[0m\n\u001b[0m\u001b[1;32m      3\u001b[0m     \u001b[0mscores\u001b[0m \u001b[0;34m=\u001b[0m \u001b[0;34m[\u001b[0m\u001b[0;34m[\u001b[0m\u001b[0mcs_index_list\u001b[0m\u001b[0;34m[\u001b[0m\u001b[0mk\u001b[0m\u001b[0;34m]\u001b[0m\u001b[0;34m,\u001b[0m \u001b[0mfinal_cs_matrix\u001b[0m\u001b[0;34m[\u001b[0m\u001b[0mmatrix_index\u001b[0m\u001b[0;34m]\u001b[0m\u001b[0;34m[\u001b[0m\u001b[0mk\u001b[0m\u001b[0;34m]\u001b[0m\u001b[0;34m]\u001b[0m \u001b[0;32mfor\u001b[0m \u001b[0mk\u001b[0m \u001b[0;32min\u001b[0m \u001b[0mrange\u001b[0m\u001b[0;34m(\u001b[0m\u001b[0mlen\u001b[0m\u001b[0;34m(\u001b[0m\u001b[0mcs_index_list\u001b[0m\u001b[0;34m)\u001b[0m\u001b[0;34m)\u001b[0m\u001b[0;34m]\u001b[0m\u001b[0;34m\u001b[0m\u001b[0;34m\u001b[0m\u001b[0m\n\u001b[1;32m      4\u001b[0m     \u001b[0mresults\u001b[0m \u001b[0;34m=\u001b[0m \u001b[0msorted\u001b[0m\u001b[0;34m(\u001b[0m\u001b[0mscores\u001b[0m\u001b[0;34m,\u001b[0m \u001b[0mkey\u001b[0m\u001b[0;34m=\u001b[0m\u001b[0;32mlambda\u001b[0m \u001b[0mx\u001b[0m\u001b[0;34m:\u001b[0m\u001b[0mx\u001b[0m\u001b[0;34m[\u001b[0m\u001b[0;36m1\u001b[0m\u001b[0;34m]\u001b[0m\u001b[0;34m,\u001b[0m \u001b[0mreverse\u001b[0m\u001b[0;34m=\u001b[0m\u001b[0;32mTrue\u001b[0m\u001b[0;34m)\u001b[0m\u001b[0;34m\u001b[0m\u001b[0;34m\u001b[0m\u001b[0m\n\u001b[1;32m      5\u001b[0m \u001b[0;34m\u001b[0m\u001b[0m\n",
      "\u001b[0;31mValueError\u001b[0m: 'LBT_20200615_134' is not in list"
     ]
    }
   ],
   "source": [
    "for n in USERnews_NewsIndex:\n",
    "    if n[0] not in cs_index_list:\n",
    "        print('Cant find User browsed news in DailyNewsNetwork ->\\n',n)\n",
    "    print('-'*100)\n",
    "    print('User browsing history News:\\n', n)\n",
    "    Recommed_News(n[0], MEDIA_NAME, 10)"
   ]
  },
  {
   "cell_type": "code",
   "execution_count": null,
   "metadata": {},
   "outputs": [],
   "source": []
  }
 ],
 "metadata": {
  "kernelspec": {
   "display_name": "Python 3",
   "language": "python",
   "name": "python3"
  },
  "language_info": {
   "codemirror_mode": {
    "name": "ipython",
    "version": 3
   },
   "file_extension": ".py",
   "mimetype": "text/x-python",
   "name": "python",
   "nbconvert_exporter": "python",
   "pygments_lexer": "ipython3",
   "version": "3.6.8"
  }
 },
 "nbformat": 4,
 "nbformat_minor": 2
}
