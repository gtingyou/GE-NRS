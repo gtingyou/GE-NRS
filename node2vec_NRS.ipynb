{
 "cells": [
  {
   "cell_type": "code",
   "execution_count": 1,
   "metadata": {},
   "outputs": [],
   "source": [
    "import sqlite3\n",
    "import pandas as pd\n",
    "import numpy as np\n",
    "from tqdm import tqdm\n",
    "import time"
   ]
  },
  {
   "cell_type": "code",
   "execution_count": 2,
   "metadata": {},
   "outputs": [],
   "source": [
    "def select_nodes_table(database_name, table_name, columns, conditions):\n",
    "    conn = sqlite3.connect(database_name)\n",
    "    cur = conn.cursor()\n",
    "    myresult = cur.execute('''SELECT {1}\n",
    "                            FROM {0} WHERE {2}'''\n",
    "                           .format(table_name,columns,conditions) )\n",
    "    result = []\n",
    "    for row in myresult:\n",
    "        result.append(row)\n",
    "    conn.close()    \n",
    "    return result"
   ]
  },
  {
   "cell_type": "code",
   "execution_count": 3,
   "metadata": {},
   "outputs": [],
   "source": [
    "def select_edges_table(database_name, table_name, columns, conditions):\n",
    "    conn = sqlite3.connect(database_name)\n",
    "    cur = conn.cursor()\n",
    "    myresult = cur.execute('''SELECT {1}\n",
    "                            FROM {0} WHERE {2}'''\n",
    "                           .format(table_name,columns,conditions) )\n",
    "    result = []\n",
    "    for row in myresult:\n",
    "        result.append(row)\n",
    "    conn.close()        \n",
    "    return result"
   ]
  },
  {
   "cell_type": "code",
   "execution_count": 4,
   "metadata": {},
   "outputs": [],
   "source": [
    "NEWS_DB_PATH = '/home/u4839782/NRS/GE-NRS/DailyNews/NewsNetwork_ch.db'\n",
    "USER_DB_PATH = '/home/u4839782/NRS/GE-NRS/UserLogs/user2.db'\n",
    "MEDIA_NAME = 'LBT'\n",
    "DATE = '2020-06-30'"
   ]
  },
  {
   "cell_type": "markdown",
   "metadata": {},
   "source": [
    "## 1. Read DailyNewsNetwork from database"
   ]
  },
  {
   "cell_type": "code",
   "execution_count": 5,
   "metadata": {},
   "outputs": [
    {
     "data": {
      "text/plain": [
       "54846"
      ]
     },
     "execution_count": 5,
     "metadata": {},
     "output_type": "execute_result"
    }
   ],
   "source": [
    "MEDIAconnection = select_edges_table(NEWS_DB_PATH, MEDIA_NAME+'connection', 'News1,News2', \"ParseDate>='2020-04-01'\")\n",
    "len(MEDIAconnection)"
   ]
  },
  {
   "cell_type": "markdown",
   "metadata": {},
   "source": [
    "## 2. Calculate *topology similarity score* and *document similarity score*"
   ]
  },
  {
   "cell_type": "markdown",
   "metadata": {},
   "source": [
    "### 2-1. Graph embedding (using node2vec)"
   ]
  },
  {
   "cell_type": "code",
   "execution_count": 12,
   "metadata": {},
   "outputs": [],
   "source": [
    "def output_MEDIAconnection_to_edgelist_file(MEDIAconnection):\n",
    "    df_edgelist = pd.DataFrame(MEDIAconnection)\n",
    "    df_edgelist.to_csv('./GraphEmbedding/data/news/%snews_%s.edgelist' %(MEDIA_NAME, DATE),sep=' ',index=None,header=None)"
   ]
  },
  {
   "cell_type": "code",
   "execution_count": 13,
   "metadata": {},
   "outputs": [],
   "source": [
    "output_MEDIAconnection_to_edgelist_file(MEDIAconnection)"
   ]
  },
  {
   "cell_type": "code",
   "execution_count": 14,
   "metadata": {},
   "outputs": [],
   "source": [
    "def Node2Vec_Network_Embedding():\n",
    "    import networkx as nx\n",
    "    from GraphEmbedding.ge.classify import read_node_label,Classifier\n",
    "    from GraphEmbedding.ge import Node2Vec\n",
    "    \n",
    "    G = nx.read_edgelist('./GraphEmbedding/data/news/%snews_%s.edgelist' %(MEDIA_NAME, DATE),\n",
    "                        create_using = nx.DiGraph(), nodetype = None, data = [('weight', int)])#read graph\n",
    "\n",
    "    model = Node2Vec(G, walk_length = 10, num_walks = 80,p = 0.25, q = 4, workers = 1)#init model\n",
    "    model.train(window_size = 5, iter = 3)# train model\n",
    "    embeddings = model.get_embeddings()# get embedding vectors\n",
    "\n",
    "    return embeddings"
   ]
  },
  {
   "cell_type": "code",
   "execution_count": 16,
   "metadata": {},
   "outputs": [
    {
     "name": "stderr",
     "output_type": "stream",
     "text": [
      "/home/u4839782/.local/lib/python3.7/site-packages/tensorflow/python/framework/dtypes.py:516: FutureWarning: Passing (type, 1) or '1type' as a synonym of type is deprecated; in a future version of numpy, it will be understood as (type, (1,)) / '(1,)type'.\n",
      "  _np_qint8 = np.dtype([(\"qint8\", np.int8, 1)])\n",
      "/home/u4839782/.local/lib/python3.7/site-packages/tensorflow/python/framework/dtypes.py:517: FutureWarning: Passing (type, 1) or '1type' as a synonym of type is deprecated; in a future version of numpy, it will be understood as (type, (1,)) / '(1,)type'.\n",
      "  _np_quint8 = np.dtype([(\"quint8\", np.uint8, 1)])\n",
      "/home/u4839782/.local/lib/python3.7/site-packages/tensorflow/python/framework/dtypes.py:518: FutureWarning: Passing (type, 1) or '1type' as a synonym of type is deprecated; in a future version of numpy, it will be understood as (type, (1,)) / '(1,)type'.\n",
      "  _np_qint16 = np.dtype([(\"qint16\", np.int16, 1)])\n",
      "/home/u4839782/.local/lib/python3.7/site-packages/tensorflow/python/framework/dtypes.py:519: FutureWarning: Passing (type, 1) or '1type' as a synonym of type is deprecated; in a future version of numpy, it will be understood as (type, (1,)) / '(1,)type'.\n",
      "  _np_quint16 = np.dtype([(\"quint16\", np.uint16, 1)])\n",
      "/home/u4839782/.local/lib/python3.7/site-packages/tensorflow/python/framework/dtypes.py:520: FutureWarning: Passing (type, 1) or '1type' as a synonym of type is deprecated; in a future version of numpy, it will be understood as (type, (1,)) / '(1,)type'.\n",
      "  _np_qint32 = np.dtype([(\"qint32\", np.int32, 1)])\n",
      "/home/u4839782/.local/lib/python3.7/site-packages/tensorflow/python/framework/dtypes.py:525: FutureWarning: Passing (type, 1) or '1type' as a synonym of type is deprecated; in a future version of numpy, it will be understood as (type, (1,)) / '(1,)type'.\n",
      "  np_resource = np.dtype([(\"resource\", np.ubyte, 1)])\n"
     ]
    },
    {
     "name": "stdout",
     "output_type": "stream",
     "text": [
      "Preprocess transition probs...\n"
     ]
    },
    {
     "name": "stderr",
     "output_type": "stream",
     "text": [
      "[Parallel(n_jobs=1)]: Using backend SequentialBackend with 1 concurrent workers.\n",
      "[Parallel(n_jobs=1)]: Done   1 out of   1 | elapsed:   15.0s finished\n"
     ]
    },
    {
     "name": "stdout",
     "output_type": "stream",
     "text": [
      "Learning embedding vectors...\n",
      "Learning embedding vectors done!\n"
     ]
    }
   ],
   "source": [
    "node2vec_embeddings = Node2Vec_Network_Embedding()"
   ]
  },
  {
   "cell_type": "code",
   "execution_count": 17,
   "metadata": {},
   "outputs": [],
   "source": [
    "def output_Embeddings_to_file(embeddings):\n",
    "    df_embeddings = pd.DataFrame(embeddings).T\n",
    "    df_embeddings= df_embeddings.sort_index()\n",
    "\n",
    "    df_embeddings.to_csv('./GraphEmbedding/emb/%snews_%s.emb' %(MEDIA_NAME, DATE),sep=' ',index=True,header=None)"
   ]
  },
  {
   "cell_type": "code",
   "execution_count": 18,
   "metadata": {},
   "outputs": [],
   "source": [
    "output_Embeddings_to_file(node2vec_embeddings)"
   ]
  },
  {
   "cell_type": "code",
   "execution_count": 8,
   "metadata": {},
   "outputs": [],
   "source": [
    "def read_Embeddings_from_file():\n",
    "    DATE = '2020-06-30'\n",
    "    df_embeddings = pd.read_csv('./GraphEmbedding/emb/%snews_%s.emb' %(MEDIA_NAME, DATE),sep=' ',index_col=0,header=None)\n",
    "    \n",
    "    index = df_embeddings.index.tolist()\n",
    "    values = df_embeddings.values.tolist()\n",
    "    node2vec_embeddings = {index[i]:values[i] for i in range(len(index))}\n",
    "    return node2vec_embeddings"
   ]
  },
  {
   "cell_type": "code",
   "execution_count": 9,
   "metadata": {
    "scrolled": true
   },
   "outputs": [],
   "source": [
    "node2vec_embeddings = read_Embeddings_from_file()"
   ]
  },
  {
   "cell_type": "markdown",
   "metadata": {},
   "source": [
    "### 2-2. topology sim score matrix"
   ]
  },
  {
   "cell_type": "code",
   "execution_count": 10,
   "metadata": {},
   "outputs": [],
   "source": [
    "def construct_topology_cs_matrix(node2vec_embeddings):\n",
    "    from sklearn.metrics.pairwise import cosine_similarity\n",
    "    \n",
    "    cs_index_list = sorted(list(node2vec_embeddings.keys()))\n",
    "    topology_cs_matrix = cosine_similarity(list(node2vec_embeddings.values()))\n",
    "                \n",
    "    return cs_index_list, topology_cs_matrix"
   ]
  },
  {
   "cell_type": "code",
   "execution_count": 11,
   "metadata": {},
   "outputs": [],
   "source": [
    "cs_index_list, topology_cs_matrix = construct_topology_cs_matrix(node2vec_embeddings)"
   ]
  },
  {
   "cell_type": "markdown",
   "metadata": {},
   "source": [
    "### 2-3. doc sim score matrix"
   ]
  },
  {
   "cell_type": "code",
   "execution_count": 12,
   "metadata": {},
   "outputs": [],
   "source": [
    "def construct_document_cs_matrix(node2vec_embeddings, MEDIA_NAME):\n",
    "    '''\n",
    "    step 1. get NewsDetail(include NewsIndex,NewsContext,NewsTitle) from database \n",
    "            ----> Due to selecting news with NewsIndex(Select * from CHTnews WHERE NewsIndex=='') is time consuming\n",
    "            ----> Hence, we dump all the news from CHTnews(Select * from CHTnews WHERE ParseDate>=''), then filter the news\n",
    "    step 2. construct cosine similarity matix of context and title respectively\n",
    "    step 3. compare 0:context and 1:title doc sim score, return the higher score\n",
    "    return: index of the matrix(list), cosine similarity matrix(list)\n",
    "    '''\n",
    "    import jieba\n",
    "    from sklearn.feature_extraction.text import CountVectorizer\n",
    "    from sklearn.feature_extraction.text import TfidfVectorizer\n",
    "    from sklearn.metrics.pairwise import cosine_similarity\n",
    "    import time\n",
    "\n",
    "    def open_stopWords_from_file(path):\n",
    "        stopWords=[]\n",
    "        # 讀入停用詞檔\n",
    "        with open('stopWords.txt', 'r', encoding='UTF-8') as file:\n",
    "            for data in file.readlines():\n",
    "                data = data.strip()\n",
    "                stopWords.append(data)\n",
    "        return stopWords\n",
    "\n",
    "    def construct_cs_matrix(context_or_title, News): # 算 context_or_title 的詞頻矩陣 ---> 1: context , 2: title\n",
    "        corpus = []\n",
    "        for i, k in enumerate( tqdm(News) ):\n",
    "            # 結巴中文斷詞\n",
    "            segments = jieba.cut(k[context_or_title], cut_all=False)\n",
    "            # 移除停用詞及跳行符號\n",
    "            remainderWords = list(filter(lambda a: a not in stopWords and a != '\\n', segments))\n",
    "            corpus.append(' '.join(remainderWords))\n",
    "        vectorizer = CountVectorizer()\n",
    "        X = vectorizer.fit_transform(corpus)\n",
    "        cs = cosine_similarity(X)\n",
    "        return cs \n",
    "    \n",
    "    ### read stopWords from file\n",
    "    stopWords = open_stopWords_from_file(path='./')\n",
    "    ### step 1\n",
    "    cs_index_list = sorted(list(node2vec_embeddings.keys()))\n",
    "    MEDIA_nodes = select_nodes_table(NEWS_DB_PATH, MEDIA_NAME+'news', 'NewsIndex,NewsContext,NewsTitle', \"ParseDate>='2020-04-01' \")\n",
    "    News = []\n",
    "    print('Selecting news details from all news...')\n",
    "    for k in MEDIA_nodes:\n",
    "        if k[0] in cs_index_list:\n",
    "            News.append(k)\n",
    "    News = sorted(News, key=lambda x:x[0], reverse=False)\n",
    "    ### step 2 \n",
    "    cs1 = construct_cs_matrix(1, News)  \n",
    "    ### step 3\n",
    "    document_cs_matrix = cs1\n",
    "\n",
    "    return cs_index_list, document_cs_matrix"
   ]
  },
  {
   "cell_type": "code",
   "execution_count": 13,
   "metadata": {},
   "outputs": [
    {
     "name": "stdout",
     "output_type": "stream",
     "text": [
      "Selecting news details from all news...\n"
     ]
    },
    {
     "name": "stderr",
     "output_type": "stream",
     "text": [
      "  0%|          | 0/34622 [00:00<?, ?it/s]Building prefix dict from the default dictionary ...\n",
      "Loading model from cache /tmp/jieba.cache\n",
      "Loading model cost 0.827 seconds.\n",
      "Prefix dict has been built succesfully.\n",
      "100%|██████████| 34622/34622 [04:29<00:00, 128.54it/s]\n"
     ]
    }
   ],
   "source": [
    "cs_index_list, document_cs_matrix = construct_document_cs_matrix(node2vec_embeddings, MEDIA_NAME)"
   ]
  },
  {
   "cell_type": "markdown",
   "metadata": {},
   "source": [
    "### 2-4. final_cs_matrix (alpha x doc sim score + (1-alpha) x topology sim score)"
   ]
  },
  {
   "cell_type": "code",
   "execution_count": 14,
   "metadata": {},
   "outputs": [],
   "source": [
    "def construct_final_cs_matrix(topology_cs_matrix, document_cs_matrix, alpha):\n",
    "    final_cs_matrix = topology_cs_matrix*alpha+document_cs_matrix*(1-alpha)\n",
    "    return final_cs_matrix"
   ]
  },
  {
   "cell_type": "code",
   "execution_count": 15,
   "metadata": {},
   "outputs": [],
   "source": [
    "final_cs_matrix = construct_final_cs_matrix(topology_cs_matrix, document_cs_matrix, 0.1)"
   ]
  },
  {
   "cell_type": "code",
   "execution_count": 16,
   "metadata": {},
   "outputs": [
    {
     "data": {
      "text/plain": [
       "((34622, 34622), (34622, 34622), (34622, 34622))"
      ]
     },
     "execution_count": 16,
     "metadata": {},
     "output_type": "execute_result"
    }
   ],
   "source": [
    "topology_cs_matrix.shape, document_cs_matrix.shape, final_cs_matrix.shape"
   ]
  },
  {
   "cell_type": "code",
   "execution_count": 16,
   "metadata": {},
   "outputs": [],
   "source": [
    "# topology_cs_matrix, document_cs_matrix, final_cs_matrix"
   ]
  },
  {
   "cell_type": "markdown",
   "metadata": {},
   "source": [
    "### 2-5. output final_cs_matrix to h5 file (optional)"
   ]
  },
  {
   "cell_type": "code",
   "execution_count": 24,
   "metadata": {},
   "outputs": [],
   "source": [
    "def output_final_cs_matirx_to_h5_file(final_cs_matrix):\n",
    "    import h5py\n",
    "    with h5py.File('./final_cs_matrix.h5', 'w') as hf:\n",
    "        hf.create_dataset('final_cs_matrix',  data=final_cs_matrix)\n",
    "        \n",
    "output_final_cs_matirx_to_h5_file(final_cs_matrix)"
   ]
  },
  {
   "cell_type": "markdown",
   "metadata": {},
   "source": [
    "## 3. Recommendation"
   ]
  },
  {
   "cell_type": "markdown",
   "metadata": {},
   "source": [
    "### 3-1. Get user browse history from database"
   ]
  },
  {
   "cell_type": "code",
   "execution_count": 26,
   "metadata": {},
   "outputs": [
    {
     "data": {
      "text/plain": [
       "35"
      ]
     },
     "execution_count": 26,
     "metadata": {},
     "output_type": "execute_result"
    }
   ],
   "source": [
    "USERnews = select_nodes_table(USER_DB_PATH, 'NODES', 'NewsIndex,NewsTitle,NewsURL,NewsContext', \"ParseDate>='2020-06-20'\")\n",
    "len(USERnews)"
   ]
  },
  {
   "cell_type": "code",
   "execution_count": 27,
   "metadata": {},
   "outputs": [],
   "source": [
    "def get_NewsIndex_from_DailyNewsNetwork(USERnews, MEDIA_NAME):\n",
    "    USERnews_NewsIndex = []\n",
    "    for k in USERnews:\n",
    "        if MEDIA_NAME=='CHT':\n",
    "            term = 'chinatimes.com'\n",
    "        elif MEDIA_NAME=='LBT':\n",
    "            term = 'ltn.com.tw'\n",
    "            \n",
    "        if 'user' in k[0] and k[3]!='' and term in k[2]:\n",
    "            url = ('%'+k[2]+'%')\n",
    "            table_name = MEDIA_NAME+'news'\n",
    "            NewsNetwork_NewsIndex = select_nodes_table(NEWS_DB_PATH, table_name, 'NewsIndex', \"NewsURL like '%s'\" %url)\n",
    "            if NewsNetwork_NewsIndex!=[]:\n",
    "                USERnews_NewsIndex.append([NewsNetwork_NewsIndex[0][0],k[1],k[2]])\n",
    "        else:\n",
    "            print('Not NewsURL or Not in %s -> %s' %(MEDIA_NAME, k[2]) )\n",
    "            continue\n",
    "    return USERnews_NewsIndex"
   ]
  },
  {
   "cell_type": "code",
   "execution_count": 28,
   "metadata": {
    "scrolled": true
   },
   "outputs": [
    {
     "name": "stdout",
     "output_type": "stream",
     "text": [
      "Not NewsURL or Not in LBT -> https://www.chinatimes.com/\n",
      "Not NewsURL or Not in LBT -> https://www.chinatimes.com/realtimenews/20200622001567-260405\n",
      "Not NewsURL or Not in LBT -> https://www.chinatimes.com/realtimenews/20200622002688-260405\n",
      "Not NewsURL or Not in LBT -> https://news.ltn.com.tw/list/breakingnews\n",
      "Not NewsURL or Not in LBT -> https://sports.ltn.com.tw/\n",
      "Not NewsURL or Not in LBT -> https://sports.ltn.com.tw/news/paper/1381483\n",
      "Not NewsURL or Not in LBT -> https://sports.ltn.com.tw/news/paper/1381484\n",
      "Not NewsURL or Not in LBT -> https://www.chinatimes.com/realtimenews/20200624003302-260409\n",
      "Not NewsURL or Not in LBT -> https://www.chinatimes.com/realtimenews/20200624002599-260409\n",
      "Not NewsURL or Not in LBT -> https://www.chinatimes.com/realtimenews/20200624000070-260409\n",
      "Not NewsURL or Not in LBT -> https://www.chinatimes.com/realtimenews/\n",
      "Not NewsURL or Not in LBT -> https://covid-19.chinatimes.com/%E6%96%B0%E5%86%A0%E8%82%BA%E7%82%8E,%E5%8F%B0%E7%81%A3\n",
      "Not NewsURL or Not in LBT -> https://www.chinatimes.com/realtimenews/20200624003186-260405\n",
      "Not NewsURL or Not in LBT -> https://www.chinatimes.com/realtimenews/20200620003247-260405\n",
      "Not NewsURL or Not in LBT -> https://www.ltn.com.tw/\n",
      "Not NewsURL or Not in LBT -> https://health.ltn.com.tw/article/breakingnews/3207818\n",
      "Not NewsURL or Not in LBT -> https://health.ltn.com.tw/article/breakingnews/3200518\n",
      "Not NewsURL or Not in LBT -> https://news.ltn.com.tw/list/breakingnews/popular\n",
      "Not NewsURL or Not in LBT -> https://news.ltn.com.tw/list/breakingnews/politics\n",
      "Not NewsURL or Not in LBT -> https://news.ltn.com.tw/list/breakingnews/life\n",
      "Not NewsURL or Not in LBT -> https://market.ltn.com.tw/article/8382\n",
      "Not NewsURL or Not in LBT -> https://news.ltn.com.tw/list/breakingnews/novelty\n",
      "Not NewsURL or Not in LBT -> https://auto.ltn.com.tw/\n",
      "Not NewsURL or Not in LBT -> https://news.ltn.com.tw/list/breakingnews/world\n",
      "Not NewsURL or Not in LBT -> https://news.ltn.com.tw/list/breakingnews/local\n",
      "Not NewsURL or Not in LBT -> https://health.ltn.com.tw/\n",
      "Not NewsURL or Not in LBT -> https://ent.ltn.com.tw/\n",
      "Not NewsURL or Not in LBT -> https://ent.ltn.com.tw/news/breakingnews/3208328\n"
     ]
    }
   ],
   "source": [
    "USERnews_NewsIndex = get_NewsIndex_from_DailyNewsNetwork(USERnews, MEDIA_NAME)"
   ]
  },
  {
   "cell_type": "markdown",
   "metadata": {},
   "source": [
    "### 3-2. Recommend news based on user browse history"
   ]
  },
  {
   "cell_type": "code",
   "execution_count": 38,
   "metadata": {},
   "outputs": [],
   "source": [
    "def Recommed_News(NewsIndex, MEDIA_NAME, top_n):\n",
    "    matrix_index = cs_index_list.index(NewsIndex)\n",
    "    scores = [[cs_index_list[k], final_cs_matrix[matrix_index][k]] for k in range(len(cs_index_list))]\n",
    "    results = sorted(scores, key=lambda x:x[1], reverse=True)\n",
    "    \n",
    "    print('Recommed News:')\n",
    "    recommend_News = []\n",
    "    for i in range(top_n):\n",
    "        recommend_NewsIndex = results[i][0]\n",
    "        if recommend_NewsIndex!=NewsIndex:\n",
    "            recommend_NewsInfo = select_nodes_table(NEWS_DB_PATH,MEDIA_NAME+'news','NewsIndex,NewsTitle,NewsURL',\"NewsIndex='%s' \" %(recommend_NewsIndex))\n",
    "            print('-'*40,'\\n%s %s %s \\n%s' %(recommend_NewsInfo[0][0],recommend_NewsInfo[0][1],recommend_NewsInfo[0][2], results[i][1]))\n",
    "#             recommend_News.append([recommend_NewsInfo[0][0],recommend_NewsInfo[0][1],recommend_NewsInfo[0][2],results[i][1]])\n",
    "#     return recommend_News"
   ]
  },
  {
   "cell_type": "code",
   "execution_count": 39,
   "metadata": {
    "scrolled": false
   },
   "outputs": [
    {
     "name": "stdout",
     "output_type": "stream",
     "text": [
      "User browsing history News: LBT_20200624_1\n",
      "日女確診恐本土個案？ 陳時中：「待釐清」暫不列案號 https://news.ltn.com.tw/news/life/breakingnews/3208237\n",
      "User browsing history News: LBT_20200624_22\n",
      "日本女學生染疫有台灣旅遊史 陳時中︰在台接觸者至少140人 https://news.ltn.com.tw/news/life/breakingnews/3208155\n",
      "User browsing history News: LBT_20200620_62\n",
      "秋天解禁？ 日本首波開放入境國家沒台灣 日媒曝關鍵原因 https://news.ltn.com.tw/news/world/breakingnews/3203519\n",
      "User browsing history News: LBT_20200617_46\n",
      "武漢肺炎》北京耳語滿天飛！傳醫院爆滿、染疫屍體天天燒 https://news.ltn.com.tw/news/world/breakingnews/3199993\n",
      "User browsing history News: LBT_20200615_134\n",
      "武漢肺炎》北京警戒再提升！ 多地列為中、高風險地區 https://news.ltn.com.tw/news/world/breakingnews/3197617\n",
      "User browsing history News: LBT_20200614_70\n",
      "武漢肺炎》北京進入非常時期！ 瘋狂「搶菜」人龍超誇張 https://news.ltn.com.tw/news/world/breakingnews/3197566\n"
     ]
    }
   ],
   "source": [
    "for n in USERnews_NewsIndex:\n",
    "    print('User browsing history News: %s\\n%s %s' %(n[0],n[1],n[2]))"
   ]
  },
  {
   "cell_type": "code",
   "execution_count": 40,
   "metadata": {
    "scrolled": false
   },
   "outputs": [
    {
     "name": "stdout",
     "output_type": "stream",
     "text": [
      "----------------------------------------------------------------------------------------------------\n",
      "User browsing history News: LBT_20200624_1\n",
      "日女確診恐本土個案？ 陳時中：「待釐清」暫不列案號 https://news.ltn.com.tw/news/life/breakingnews/3208237\n",
      "Recommed News:\n",
      "---------------------------------------- \n",
      "LBT_20200624_22 日本女學生染疫有台灣旅遊史 陳時中︰在台接觸者至少140人 https://news.ltn.com.tw/news/life/breakingnews/3208155 \n",
      "0.7177685555251646\n",
      "---------------------------------------- \n",
      "LBT_20200529_38 新增1例境外 30多歲女性自英返台初採陰、二採確診 https://news.ltn.com.tw/news/life/breakingnews/3156745 \n",
      "0.5388568321564133\n",
      "---------------------------------------- \n",
      "LBT_20200607_408 新增3確診 1本土病例連假發病找不到感染源 https://news.ltn.com.tw/news/life/breakingnews/3126911 \n",
      "0.5328816919544352\n",
      "---------------------------------------- \n",
      "LBT_20200524_435 敦睦艦隊磐石艦再增1例 累計已31人確診 https://news.ltn.com.tw/news/life/breakingnews/3145442 \n",
      "0.5279085181348717\n",
      "---------------------------------------- \n",
      "LBT_20200507_28 新增1例境外！20多歲女卡達確診治療 、二採陰返台又確診 https://news.ltn.com.tw/news/life/breakingnews/3157986 \n",
      "0.5211668428868989\n",
      "---------------------------------------- \n",
      "LBT_20200626_801 武漢肺炎》增1例境外移入 有瓜地馬拉活動史 https://news.ltn.com.tw/news/life/breakingnews/3208936 \n",
      "0.518269246234211\n",
      "---------------------------------------- \n",
      "LBT_20200601_144 武漢肺炎》又一大學中鏢！政大1交換生確診 另有2人隔離 https://news.ltn.com.tw/news/life/breakingnews/3113981 \n",
      "0.5078703861299932\n",
      "---------------------------------------- \n",
      "LBT_20200514_950 連7天「+0」創紀錄 境外移入、本土都無病例 https://news.ltn.com.tw/news/life/breakingnews/3165411 \n",
      "0.5070821998659157\n",
      "---------------------------------------- \n",
      "LBT_20200521_1029 武漢肺炎》台灣出現首例死亡病例 且無出國旅遊史 https://news.ltn.com.tw/news/life/breakingnews/3070107 \n",
      "0.5063263446140936\n",
      "----------------------------------------------------------------------------------------------------\n",
      "User browsing history News: LBT_20200624_22\n",
      "日本女學生染疫有台灣旅遊史 陳時中︰在台接觸者至少140人 https://news.ltn.com.tw/news/life/breakingnews/3208155\n",
      "Recommed News:\n",
      "---------------------------------------- \n",
      "LBT_20200624_1 日女確診恐本土個案？ 陳時中：「待釐清」暫不列案號 https://news.ltn.com.tw/news/life/breakingnews/3208237 \n",
      "0.7177685555251646\n",
      "---------------------------------------- \n",
      "LBT_20200624_123 日本染疫20多歲女曾來台 指揮中心17:30加開臨時記者會說明 https://news.ltn.com.tw/news/life/breakingnews/3207990 \n",
      "0.5151629422681208\n",
      "---------------------------------------- \n",
      "LBT_20200529_3 「嘉玲」今天沒來！新增一俄羅斯境外移入病例 25日從日本轉機返台 https://news.ltn.com.tw/news/life/breakingnews/3181146 \n",
      "0.4989948022001632\n",
      "---------------------------------------- \n",
      "LBT_20200607_408 新增3確診 1本土病例連假發病找不到感染源 https://news.ltn.com.tw/news/life/breakingnews/3126911 \n",
      "0.4985705935232409\n",
      "---------------------------------------- \n",
      "LBT_20200624_32 日本厚勞省︰無症狀女性20日入境檢疫確診 曾滯留台灣 https://news.ltn.com.tw/news/world/breakingnews/3208090 \n",
      "0.49208738021224796\n",
      "---------------------------------------- \n",
      "LBT_20200626_108 鬆口氣！確診武肺日本女學生 在台接觸者全陰性 https://news.ltn.com.tw/news/life/breakingnews/3209745 \n",
      "0.49108338048547034\n",
      "---------------------------------------- \n",
      "LBT_20200626_584 再增1例境外移入！ 指揮中心14:00召開臨時記者會 https://news.ltn.com.tw/news/life/breakingnews/3208808 \n",
      "0.49095488485458005\n",
      "---------------------------------------- \n",
      "LBT_20200626_801 武漢肺炎》增1例境外移入 有瓜地馬拉活動史 https://news.ltn.com.tw/news/life/breakingnews/3208936 \n",
      "0.4899177724682082\n",
      "---------------------------------------- \n",
      "LBT_20200529_38 新增1例境外 30多歲女性自英返台初採陰、二採確診 https://news.ltn.com.tw/news/life/breakingnews/3156745 \n",
      "0.4848211766761461\n",
      "----------------------------------------------------------------------------------------------------\n",
      "User browsing history News: LBT_20200620_62\n",
      "秋天解禁？ 日本首波開放入境國家沒台灣 日媒曝關鍵原因 https://news.ltn.com.tw/news/world/breakingnews/3203519\n",
      "Recommed News:\n",
      "---------------------------------------- \n",
      "LBT_20200624_327 台灣未列入日本首波開放入境國家 日網友：太奇怪了吧 https://news.ltn.com.tw/news/world/breakingnews/3202391 \n",
      "0.7525307576835142\n",
      "---------------------------------------- \n",
      "LBT_20200618_12 武漢肺炎》日本首波開放入境國家公布 台灣未入列 https://news.ltn.com.tw/news/world/breakingnews/3202322 \n",
      "0.6438583152684146\n",
      "---------------------------------------- \n",
      "LBT_20200609_104 日媒：日本擬鬆綁4國入境限制 台灣不在其中 https://news.ltn.com.tw/news/world/breakingnews/3182967 \n",
      "0.5961237153064886\n",
      "---------------------------------------- \n",
      "LBT_20200613_81 日本執政黨提議 台灣應列首波優先解除入境管制名單 https://news.ltn.com.tw/news/world/breakingnews/3196357 \n",
      "0.5848430558402089\n",
      "---------------------------------------- \n",
      "LBT_20200514_1226 台捐200萬口罩抵成田機場 日網友紛感謝：應向台灣學習！ https://news.ltn.com.tw/news/world/breakingnews/3140431 \n",
      "0.5779427405326727\n",
      "---------------------------------------- \n",
      "LBT_20200617_702 武漢肺炎》台灣宣布援助200萬片口罩 日本網友「揪感心」 https://news.ltn.com.tw/news/world/breakingnews/3136199 \n",
      "0.5728264161118548\n",
      "---------------------------------------- \n",
      "LBT_20200521_523 台灣再被拒於WHA門外 日本網友痛罵：最惡最低 https://news.ltn.com.tw/news/world/breakingnews/3169820 \n",
      "0.5352743322733895\n",
      "---------------------------------------- \n",
      "LBT_20200526_28 日本入境管制延到6月底 台灣可望優先列入放寬名單 https://news.ltn.com.tw/news/world/breakingnews/3177719 \n",
      "0.5348157724495163\n",
      "---------------------------------------- \n",
      "LBT_20200627_516 日人認為台人禮儀差？ 這位日本人反駁了... https://news.ltn.com.tw/news/life/breakingnews/1771203 \n",
      "0.534175181368505\n",
      "----------------------------------------------------------------------------------------------------\n",
      "User browsing history News: LBT_20200617_46\n",
      "武漢肺炎》北京耳語滿天飛！傳醫院爆滿、染疫屍體天天燒 https://news.ltn.com.tw/news/world/breakingnews/3199993\n",
      "Recommed News:\n",
      "---------------------------------------- \n",
      "LBT_20200617_150 疫情嚴峻！北京宣布全市進「戰時狀態」 展開敲門行動大排查 https://news.ltn.com.tw/news/world/breakingnews/3198518 \n",
      "0.5570816520800166\n",
      "---------------------------------------- \n",
      "LBT_20200621_13 武漢肺炎》中國疫情翻轉！湖北等地調派檢測人員馳援北京 https://news.ltn.com.tw/news/world/breakingnews/3204882 \n",
      "0.4665166432262284\n",
      "---------------------------------------- \n",
      "LBT_20200615_110 防堵北京疫情擴散 河北保定啟動戰時機制 https://news.ltn.com.tw/news/world/breakingnews/3198194 \n",
      "0.4643626557335018\n",
      "---------------------------------------- \n",
      "LBT_20200615_37 疫情蔓延！遼寧、河北、四川皆出現與北京確診關聯病例 https://news.ltn.com.tw/news/world/breakingnews/3198154 \n",
      "0.4609991610851045\n",
      "---------------------------------------- \n",
      "LBT_20200617_43 武漢肺炎》北京疫情再擴散 浙江也現關連病例 https://news.ltn.com.tw/news/world/breakingnews/3200118 \n",
      "0.4449010608724278\n",
      "---------------------------------------- \n",
      "LBT_20200621_313 武漢肺炎》北京新增本土確診22例 9天內累積破200例 https://news.ltn.com.tw/news/world/breakingnews/3203630 \n",
      "0.43842510619927827\n",
      "---------------------------------------- \n",
      "LBT_20200624_404 武漢肺炎》疫情嚴峻！北京：中高風險區、服務業人員全面篩檢 https://news.ltn.com.tw/news/world/breakingnews/3207059 \n",
      "0.4347774174425122\n",
      "---------------------------------------- \n",
      "LBT_20200617_221 疫情嚴重？北京大規模取消航班 中小學緊急關閉 https://news.ltn.com.tw/news/world/breakingnews/3200059 \n",
      "0.4330579319203356\n",
      "---------------------------------------- \n",
      "LBT_20200623_128 武漢肺炎》北京官方隱瞞？ 中國網路談疫情立即被捕 https://news.ltn.com.tw/news/world/breakingnews/3206126 \n",
      "0.4315823504854961\n",
      "----------------------------------------------------------------------------------------------------\n",
      "User browsing history News: LBT_20200615_134\n",
      "武漢肺炎》北京警戒再提升！ 多地列為中、高風險地區 https://news.ltn.com.tw/news/world/breakingnews/3197617\n",
      "Recommed News:\n",
      "---------------------------------------- \n",
      "LBT_20200613_5 武漢肺炎》北京警戒提升！ 多地升級「中風險地區」 https://news.ltn.com.tw/news/world/breakingnews/3196952 \n",
      "0.6122403390112906\n",
      "---------------------------------------- \n",
      "LBT_20200615_35 北京爆第二波疫情！ 專家強調可防可控 黑龍江祭隔離21天打臉 https://news.ltn.com.tw/news/world/breakingnews/3198452 \n",
      "0.5000712583818125\n",
      "---------------------------------------- \n",
      "LBT_20200614_71 武漢肺炎》憂疫情捲土重來 中國多地籲民眾勿赴北京 https://news.ltn.com.tw/news/world/breakingnews/3197502 \n",
      "0.4900381565431106\n",
      "---------------------------------------- \n",
      "LBT_20200615_341 搶在中央之前先動手？北京疫情防疫不當3官員被免職 https://news.ltn.com.tw/news/world/breakingnews/3197886 \n",
      "0.45288120600688425\n",
      "---------------------------------------- \n",
      "LBT_20200615_135 武漢肺炎》北京4日已確診51例 官方指病毒來自歐洲 https://news.ltn.com.tw/news/world/breakingnews/3197879 \n",
      "0.40808021322233995\n",
      "---------------------------------------- \n",
      "LBT_20200614_18 武漢肺炎》止不住！ 北京今晨再增8例確診 全與新發地市場有關 https://news.ltn.com.tw/news/world/breakingnews/3197723 \n",
      "0.38477943557052313\n",
      "---------------------------------------- \n",
      "LBT_20200623_305 北京近10日新增227例 目前仍全數住院中 https://news.ltn.com.tw/news/world/breakingnews/3204458 \n",
      "0.3840372630568331\n",
      "---------------------------------------- \n",
      "LBT_20200614_128 武肺疫情復燃！ 北京市昨單日新增36例確診 https://news.ltn.com.tw/news/world/breakingnews/3197254 \n",
      "0.373443776223361\n"
     ]
    },
    {
     "name": "stdout",
     "output_type": "stream",
     "text": [
      "---------------------------------------- \n",
      "LBT_20200617_522 5天106例 北京16區逾半淪陷 https://news.ltn.com.tw/news/world/paper/1380341 \n",
      "0.3704604938328483\n",
      "----------------------------------------------------------------------------------------------------\n",
      "User browsing history News: LBT_20200614_70\n",
      "武漢肺炎》北京進入非常時期！ 瘋狂「搶菜」人龍超誇張 https://news.ltn.com.tw/news/world/breakingnews/3197566\n",
      "Recommed News:\n",
      "---------------------------------------- \n",
      "LBT_20200614_128 武肺疫情復燃！ 北京市昨單日新增36例確診 https://news.ltn.com.tw/news/world/breakingnews/3197254 \n",
      "0.6037800992953176\n",
      "---------------------------------------- \n",
      "LBT_20200614_15 武肺疫情再起！北京召開防疫會議「已進入非常時期」 https://news.ltn.com.tw/news/world/breakingnews/3197212 \n",
      "0.5685329252258362\n",
      "---------------------------------------- \n",
      "LBT_20200613_245 武漢肺炎》北京爆二波疫情？2天增3本土病例 六大市場急休市 https://news.ltn.com.tw/news/world/breakingnews/3196444 \n",
      "0.5071749579582174\n",
      "---------------------------------------- \n",
      "LBT_20200613_132 武漢肺炎》北京批發市場「切魚砧板」驗出病毒 三大超市連夜下架 https://news.ltn.com.tw/news/world/breakingnews/3196487 \n",
      "0.5020351982761084\n",
      "---------------------------------------- \n",
      "LBT_20200615_132 武漢肺炎》北京菜價一夜翻倍 官媒急維穩籲勿搶菜 https://news.ltn.com.tw/news/world/breakingnews/3198182 \n",
      "0.47322352539462154\n",
      "---------------------------------------- \n",
      "LBT_20200614_37 武漢肺炎》北京今新增36例 全與新發地市場有關 https://news.ltn.com.tw/news/world/breakingnews/3197393 \n",
      "0.4685764537616882\n",
      "---------------------------------------- \n",
      "LBT_20200614_18 武漢肺炎》止不住！ 北京今晨再增8例確診 全與新發地市場有關 https://news.ltn.com.tw/news/world/breakingnews/3197723 \n",
      "0.46824026520360945\n",
      "---------------------------------------- \n",
      "LBT_20200614_71 武漢肺炎》憂疫情捲土重來 中國多地籲民眾勿赴北京 https://news.ltn.com.tw/news/world/breakingnews/3197502 \n",
      "0.4576931556237257\n",
      "---------------------------------------- \n",
      "LBT_20200613_102 武漢肺炎》北京爆6本土病例急封11小區 46人檢測陽性尚未出現症狀 https://news.ltn.com.tw/news/world/breakingnews/3196447 \n",
      "0.45412908216918774\n"
     ]
    }
   ],
   "source": [
    "for n in USERnews_NewsIndex:\n",
    "#     if n[0] not in cs_index_list:\n",
    "#         print('Cant find User browsed news in DailyNewsNetwork ->\\n',n)\n",
    "#         continue\n",
    "    print('-'*100)\n",
    "    print('User browsing history News: %s\\n%s %s' %(n[0],n[1],n[2]))\n",
    "    Recommed_News(n[0], MEDIA_NAME, 10)"
   ]
  },
  {
   "cell_type": "markdown",
   "metadata": {},
   "source": [
    "#### challenges: \n",
    "1. node2vec 方法改進\n",
    "2. recommed news 是過去的，應該要推薦最新的新聞"
   ]
  },
  {
   "cell_type": "code",
   "execution_count": null,
   "metadata": {},
   "outputs": [],
   "source": []
  }
 ],
 "metadata": {
  "kernelspec": {
   "display_name": "Python 3",
   "language": "python",
   "name": "python3"
  },
  "language_info": {
   "codemirror_mode": {
    "name": "ipython",
    "version": 3
   },
   "file_extension": ".py",
   "mimetype": "text/x-python",
   "name": "python",
   "nbconvert_exporter": "python",
   "pygments_lexer": "ipython3",
   "version": "3.7.3"
  }
 },
 "nbformat": 4,
 "nbformat_minor": 2
}
